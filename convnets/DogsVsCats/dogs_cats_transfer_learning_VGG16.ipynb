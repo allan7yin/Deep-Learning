{
  "nbformat": 4,
  "nbformat_minor": 0,
  "metadata": {
    "colab": {
      "provenance": [],
      "gpuType": "T4"
    },
    "kernelspec": {
      "name": "python3",
      "display_name": "Python 3"
    },
    "language_info": {
      "name": "python"
    },
    "accelerator": "GPU"
  },
  "cells": [
    {
      "cell_type": "markdown",
      "source": [
        "### Dogs vs Cats - Leveraging Pretrained Model\n",
        "We've seen before, that our own convnet reached around 81% test accuracy, and could lifted to around 90% if we added more layers or more filters. But, to improve from that point would be difficult due to small amount of data we have. So, to obtain high accuracy on test data, we leverage pretrained models."
      ],
      "metadata": {
        "id": "nCPFDs35sXCL"
      }
    },
    {
      "cell_type": "markdown",
      "source": [
        "Let's first load our data into this, like before:"
      ],
      "metadata": {
        "id": "VVGZmNRkbzYz"
      }
    },
    {
      "cell_type": "code",
      "source": [
        "# setup\n",
        "! mkdir ~/.kaggle\n",
        "! cp kaggle.json ~/.kaggle/\n",
        "! chmod 600 ~/.kaggle/kaggle.json"
      ],
      "metadata": {
        "id": "ZgiLlZwZb5DB"
      },
      "execution_count": 1,
      "outputs": []
    },
    {
      "cell_type": "code",
      "source": [
        "# download data\n",
        "! kaggle competitions download -c dogs-vs-cats\n",
        "! unzip -qq dogs-vs-cats.zip\n",
        "! unzip -qq train.zip"
      ],
      "metadata": {
        "colab": {
          "base_uri": "https://localhost:8080/"
        },
        "id": "xRPC89MDb7s9",
        "outputId": "ba4f99e0-c9cd-4b92-d0b1-045cae1e60b5"
      },
      "execution_count": 2,
      "outputs": [
        {
          "output_type": "stream",
          "name": "stdout",
          "text": [
            "Downloading dogs-vs-cats.zip to /content\n",
            " 98% 797M/812M [00:07<00:00, 182MB/s]\n",
            "100% 812M/812M [00:07<00:00, 117MB/s]\n"
          ]
        }
      ]
    },
    {
      "cell_type": "code",
      "source": [
        "import os, shutil, pathlib\n",
        "original_dir = pathlib.Path(\"train\")\n",
        "new_base_dir = pathlib.Path(\"cats_vs_dogs_small\")\n",
        "print(original_dir)\n",
        "print(new_base_dir)"
      ],
      "metadata": {
        "colab": {
          "base_uri": "https://localhost:8080/"
        },
        "id": "P1mnz4l6b8p-",
        "outputId": "759a1fee-89ec-435b-8c52-0954f6d73d04"
      },
      "execution_count": 3,
      "outputs": [
        {
          "output_type": "stream",
          "name": "stdout",
          "text": [
            "train\n",
            "cats_vs_dogs_small\n"
          ]
        }
      ]
    },
    {
      "cell_type": "code",
      "source": [
        "def make_subset(subset_name, start_index, end_index):\n",
        "  for category in (\"cat\", \"dog\"):\n",
        "    dir = new_base_dir / subset_name / category\n",
        "    os.makedirs(dir)\n",
        "    fnames = [f\"{category}.{i}.jpg\" for i in range(start_index, end_index)]\n",
        "\n",
        "    for fname in fnames: shutil.copyfile(src=original_dir / fname, dst=dir / fname)\n",
        "\n",
        "make_subset(\"train\", start_index=0, end_index=1000)\n",
        "make_subset(\"validation\", start_index=1000, end_index=1500)\n",
        "make_subset(\"test\", start_index=1500, end_index=2500)"
      ],
      "metadata": {
        "id": "Fgit-UJgb9lc"
      },
      "execution_count": 4,
      "outputs": []
    },
    {
      "cell_type": "code",
      "source": [
        "from keras.utils import image_dataset_from_directory\n",
        "\n",
        "train_dataset = image_dataset_from_directory(\n",
        "    new_base_dir / \"train\",\n",
        "    image_size=(180, 180),\n",
        "    batch_size=32)\n",
        "validation_dataset = image_dataset_from_directory(\n",
        "    new_base_dir / \"validation\",\n",
        "    image_size=(180, 180),\n",
        "    batch_size=32)\n",
        "test_dataset = image_dataset_from_directory(\n",
        "    new_base_dir / \"test\",\n",
        "    image_size=(180, 180),\n",
        "    batch_size=32)"
      ],
      "metadata": {
        "id": "5a0PsV-Qcwi-",
        "colab": {
          "base_uri": "https://localhost:8080/"
        },
        "outputId": "84a81450-3f2a-40ff-b9e6-328b619691e3"
      },
      "execution_count": 5,
      "outputs": [
        {
          "output_type": "stream",
          "name": "stdout",
          "text": [
            "Found 2000 files belonging to 2 classes.\n",
            "Found 1000 files belonging to 2 classes.\n",
            "Found 2000 files belonging to 2 classes.\n"
          ]
        }
      ]
    },
    {
      "cell_type": "markdown",
      "source": [
        "Now, let's defined our model:"
      ],
      "metadata": {
        "id": "aTYegAM3cJWD"
      }
    },
    {
      "cell_type": "code",
      "source": [
        "import tensorflow as tf\n",
        "from tensorflow import keras\n",
        "\n",
        "conv_base = keras.applications.vgg16.VGG16(\n",
        "    weights=\"imagenet\",\n",
        "    include_top=False,\n",
        "    input_shape=(180, 180, 3))"
      ],
      "metadata": {
        "id": "PGf3P7xbcLTE",
        "colab": {
          "base_uri": "https://localhost:8080/"
        },
        "outputId": "76d64d2e-e21f-43ef-8cb0-41e38f869cf1"
      },
      "execution_count": 6,
      "outputs": [
        {
          "output_type": "stream",
          "name": "stdout",
          "text": [
            "Downloading data from https://storage.googleapis.com/tensorflow/keras-applications/vgg16/vgg16_weights_tf_dim_ordering_tf_kernels_notop.h5\n",
            "58889256/58889256 [==============================] - 0s 0us/step\n"
          ]
        }
      ]
    },
    {
      "cell_type": "code",
      "source": [
        "conv_base.summary()"
      ],
      "metadata": {
        "id": "ucXKUT78cV_3",
        "colab": {
          "base_uri": "https://localhost:8080/"
        },
        "outputId": "54da3101-b912-405a-b645-364fbb51dcfd"
      },
      "execution_count": 7,
      "outputs": [
        {
          "output_type": "stream",
          "name": "stdout",
          "text": [
            "Model: \"vgg16\"\n",
            "_________________________________________________________________\n",
            " Layer (type)                Output Shape              Param #   \n",
            "=================================================================\n",
            " input_1 (InputLayer)        [(None, 180, 180, 3)]     0         \n",
            "                                                                 \n",
            " block1_conv1 (Conv2D)       (None, 180, 180, 64)      1792      \n",
            "                                                                 \n",
            " block1_conv2 (Conv2D)       (None, 180, 180, 64)      36928     \n",
            "                                                                 \n",
            " block1_pool (MaxPooling2D)  (None, 90, 90, 64)        0         \n",
            "                                                                 \n",
            " block2_conv1 (Conv2D)       (None, 90, 90, 128)       73856     \n",
            "                                                                 \n",
            " block2_conv2 (Conv2D)       (None, 90, 90, 128)       147584    \n",
            "                                                                 \n",
            " block2_pool (MaxPooling2D)  (None, 45, 45, 128)       0         \n",
            "                                                                 \n",
            " block3_conv1 (Conv2D)       (None, 45, 45, 256)       295168    \n",
            "                                                                 \n",
            " block3_conv2 (Conv2D)       (None, 45, 45, 256)       590080    \n",
            "                                                                 \n",
            " block3_conv3 (Conv2D)       (None, 45, 45, 256)       590080    \n",
            "                                                                 \n",
            " block3_pool (MaxPooling2D)  (None, 22, 22, 256)       0         \n",
            "                                                                 \n",
            " block4_conv1 (Conv2D)       (None, 22, 22, 512)       1180160   \n",
            "                                                                 \n",
            " block4_conv2 (Conv2D)       (None, 22, 22, 512)       2359808   \n",
            "                                                                 \n",
            " block4_conv3 (Conv2D)       (None, 22, 22, 512)       2359808   \n",
            "                                                                 \n",
            " block4_pool (MaxPooling2D)  (None, 11, 11, 512)       0         \n",
            "                                                                 \n",
            " block5_conv1 (Conv2D)       (None, 11, 11, 512)       2359808   \n",
            "                                                                 \n",
            " block5_conv2 (Conv2D)       (None, 11, 11, 512)       2359808   \n",
            "                                                                 \n",
            " block5_conv3 (Conv2D)       (None, 11, 11, 512)       2359808   \n",
            "                                                                 \n",
            " block5_pool (MaxPooling2D)  (None, 5, 5, 512)         0         \n",
            "                                                                 \n",
            "=================================================================\n",
            "Total params: 14714688 (56.13 MB)\n",
            "Trainable params: 14714688 (56.13 MB)\n",
            "Non-trainable params: 0 (0.00 Byte)\n",
            "_________________________________________________________________\n"
          ]
        }
      ]
    },
    {
      "cell_type": "markdown",
      "source": [
        "Now, as in my notes, there are 2 methods. Let's see the first one:"
      ],
      "metadata": {
        "id": "OZaFRB3MceX9"
      }
    },
    {
      "cell_type": "code",
      "source": [
        "import numpy as np\n",
        "\n",
        "def get_features_and_labels(dataset):\n",
        "\tall_features = []\n",
        "\tall_labels = []\n",
        "\tfor images, labels in dataset:\n",
        "\t\tpreprocessed_images = keras.applications.vgg16.preprocess_input(images)\n",
        "\t\tfeatures = conv_base.predict(preprocessed_images)\n",
        "\t\tall_features.append(features)\n",
        "\t\tall_labels.append(labels)\n",
        "\treturn np.concatenate(all_features), np.concatenate(all_labels)\n",
        "\n",
        "train_features, train_labels = get_features_and_labels(train_dataset)\n",
        "val_features, val_labels = get_features_and_labels(validation_dataset)\n",
        "test_features, test_labels = get_features_and_labels(test_dataset)"
      ],
      "metadata": {
        "colab": {
          "base_uri": "https://localhost:8080/"
        },
        "id": "o_KmnYlnclGF",
        "outputId": "166336e2-895e-4ac9-a846-be72f9975ca8"
      },
      "execution_count": 8,
      "outputs": [
        {
          "output_type": "stream",
          "name": "stdout",
          "text": [
            "1/1 [==============================] - 6s 6s/step\n",
            "1/1 [==============================] - 0s 27ms/step\n",
            "1/1 [==============================] - 0s 26ms/step\n",
            "1/1 [==============================] - 0s 35ms/step\n",
            "1/1 [==============================] - 0s 26ms/step\n",
            "1/1 [==============================] - 0s 28ms/step\n",
            "1/1 [==============================] - 0s 27ms/step\n",
            "1/1 [==============================] - 0s 26ms/step\n",
            "1/1 [==============================] - 0s 28ms/step\n",
            "1/1 [==============================] - 0s 21ms/step\n",
            "1/1 [==============================] - 0s 24ms/step\n",
            "1/1 [==============================] - 0s 24ms/step\n",
            "1/1 [==============================] - 0s 29ms/step\n",
            "1/1 [==============================] - 0s 23ms/step\n",
            "1/1 [==============================] - 0s 22ms/step\n",
            "1/1 [==============================] - 0s 28ms/step\n",
            "1/1 [==============================] - 0s 25ms/step\n",
            "1/1 [==============================] - 0s 26ms/step\n",
            "1/1 [==============================] - 0s 27ms/step\n",
            "1/1 [==============================] - 0s 22ms/step\n",
            "1/1 [==============================] - 0s 23ms/step\n",
            "1/1 [==============================] - 0s 22ms/step\n",
            "1/1 [==============================] - 0s 22ms/step\n",
            "1/1 [==============================] - 0s 22ms/step\n",
            "1/1 [==============================] - 0s 27ms/step\n",
            "1/1 [==============================] - 0s 22ms/step\n",
            "1/1 [==============================] - 0s 22ms/step\n",
            "1/1 [==============================] - 0s 22ms/step\n",
            "1/1 [==============================] - 0s 23ms/step\n",
            "1/1 [==============================] - 0s 28ms/step\n",
            "1/1 [==============================] - 0s 22ms/step\n",
            "1/1 [==============================] - 0s 27ms/step\n",
            "1/1 [==============================] - 0s 22ms/step\n",
            "1/1 [==============================] - 0s 25ms/step\n",
            "1/1 [==============================] - 0s 26ms/step\n",
            "1/1 [==============================] - 0s 22ms/step\n",
            "1/1 [==============================] - 0s 21ms/step\n",
            "1/1 [==============================] - 0s 26ms/step\n",
            "1/1 [==============================] - 0s 24ms/step\n",
            "1/1 [==============================] - 0s 28ms/step\n",
            "1/1 [==============================] - 0s 22ms/step\n",
            "1/1 [==============================] - 0s 22ms/step\n",
            "1/1 [==============================] - 0s 22ms/step\n",
            "1/1 [==============================] - 0s 21ms/step\n",
            "1/1 [==============================] - 0s 22ms/step\n",
            "1/1 [==============================] - 0s 21ms/step\n",
            "1/1 [==============================] - 0s 22ms/step\n",
            "1/1 [==============================] - 0s 37ms/step\n",
            "1/1 [==============================] - 0s 29ms/step\n",
            "1/1 [==============================] - 0s 32ms/step\n",
            "1/1 [==============================] - 0s 33ms/step\n",
            "1/1 [==============================] - 0s 32ms/step\n",
            "1/1 [==============================] - 0s 35ms/step\n",
            "1/1 [==============================] - 0s 30ms/step\n",
            "1/1 [==============================] - 0s 38ms/step\n",
            "1/1 [==============================] - 0s 37ms/step\n",
            "1/1 [==============================] - 0s 38ms/step\n",
            "1/1 [==============================] - 0s 34ms/step\n",
            "1/1 [==============================] - 0s 34ms/step\n",
            "1/1 [==============================] - 0s 33ms/step\n",
            "1/1 [==============================] - 0s 34ms/step\n",
            "1/1 [==============================] - 0s 38ms/step\n",
            "1/1 [==============================] - 3s 3s/step\n",
            "1/1 [==============================] - 0s 26ms/step\n",
            "1/1 [==============================] - 0s 29ms/step\n",
            "1/1 [==============================] - 0s 27ms/step\n",
            "1/1 [==============================] - 0s 22ms/step\n",
            "1/1 [==============================] - 0s 29ms/step\n",
            "1/1 [==============================] - 0s 28ms/step\n",
            "1/1 [==============================] - 0s 23ms/step\n",
            "1/1 [==============================] - 0s 22ms/step\n",
            "1/1 [==============================] - 0s 22ms/step\n",
            "1/1 [==============================] - 0s 21ms/step\n",
            "1/1 [==============================] - 0s 27ms/step\n",
            "1/1 [==============================] - 0s 22ms/step\n",
            "1/1 [==============================] - 0s 22ms/step\n",
            "1/1 [==============================] - 0s 28ms/step\n",
            "1/1 [==============================] - 0s 23ms/step\n",
            "1/1 [==============================] - 0s 27ms/step\n",
            "1/1 [==============================] - 0s 23ms/step\n",
            "1/1 [==============================] - 0s 22ms/step\n",
            "1/1 [==============================] - 0s 32ms/step\n",
            "1/1 [==============================] - 0s 23ms/step\n",
            "1/1 [==============================] - 0s 24ms/step\n",
            "1/1 [==============================] - 0s 21ms/step\n",
            "1/1 [==============================] - 0s 22ms/step\n",
            "1/1 [==============================] - 0s 21ms/step\n",
            "1/1 [==============================] - 0s 22ms/step\n",
            "1/1 [==============================] - 0s 22ms/step\n",
            "1/1 [==============================] - 0s 33ms/step\n",
            "1/1 [==============================] - 0s 21ms/step\n",
            "1/1 [==============================] - 0s 21ms/step\n",
            "1/1 [==============================] - 0s 22ms/step\n",
            "1/1 [==============================] - 0s 22ms/step\n",
            "1/1 [==============================] - 2s 2s/step\n",
            "1/1 [==============================] - 0s 22ms/step\n",
            "1/1 [==============================] - 0s 34ms/step\n",
            "1/1 [==============================] - 0s 27ms/step\n",
            "1/1 [==============================] - 0s 22ms/step\n",
            "1/1 [==============================] - 0s 29ms/step\n",
            "1/1 [==============================] - 0s 24ms/step\n",
            "1/1 [==============================] - 0s 27ms/step\n",
            "1/1 [==============================] - 0s 22ms/step\n",
            "1/1 [==============================] - 0s 25ms/step\n",
            "1/1 [==============================] - 0s 22ms/step\n",
            "1/1 [==============================] - 0s 22ms/step\n",
            "1/1 [==============================] - 0s 23ms/step\n",
            "1/1 [==============================] - 0s 23ms/step\n",
            "1/1 [==============================] - 0s 31ms/step\n",
            "1/1 [==============================] - 0s 21ms/step\n",
            "1/1 [==============================] - 0s 28ms/step\n",
            "1/1 [==============================] - 0s 33ms/step\n",
            "1/1 [==============================] - 0s 33ms/step\n",
            "1/1 [==============================] - 0s 28ms/step\n",
            "1/1 [==============================] - 0s 35ms/step\n",
            "1/1 [==============================] - 0s 34ms/step\n",
            "1/1 [==============================] - 0s 32ms/step\n",
            "1/1 [==============================] - 0s 42ms/step\n",
            "1/1 [==============================] - 0s 46ms/step\n",
            "1/1 [==============================] - 0s 34ms/step\n",
            "1/1 [==============================] - 0s 35ms/step\n",
            "1/1 [==============================] - 0s 44ms/step\n",
            "1/1 [==============================] - 0s 33ms/step\n",
            "1/1 [==============================] - 0s 38ms/step\n",
            "1/1 [==============================] - 0s 32ms/step\n",
            "1/1 [==============================] - 0s 45ms/step\n",
            "1/1 [==============================] - 0s 32ms/step\n",
            "1/1 [==============================] - 0s 33ms/step\n",
            "1/1 [==============================] - 0s 36ms/step\n",
            "1/1 [==============================] - 0s 30ms/step\n",
            "1/1 [==============================] - 0s 31ms/step\n",
            "1/1 [==============================] - 0s 43ms/step\n",
            "1/1 [==============================] - 0s 37ms/step\n",
            "1/1 [==============================] - 0s 38ms/step\n",
            "1/1 [==============================] - 0s 33ms/step\n",
            "1/1 [==============================] - 0s 32ms/step\n",
            "1/1 [==============================] - 0s 31ms/step\n",
            "1/1 [==============================] - 0s 32ms/step\n",
            "1/1 [==============================] - 0s 26ms/step\n",
            "1/1 [==============================] - 0s 27ms/step\n",
            "1/1 [==============================] - 0s 23ms/step\n",
            "1/1 [==============================] - 0s 30ms/step\n",
            "1/1 [==============================] - 0s 23ms/step\n",
            "1/1 [==============================] - 0s 23ms/step\n",
            "1/1 [==============================] - 0s 22ms/step\n",
            "1/1 [==============================] - 0s 22ms/step\n",
            "1/1 [==============================] - 0s 23ms/step\n",
            "1/1 [==============================] - 0s 22ms/step\n",
            "1/1 [==============================] - 0s 25ms/step\n",
            "1/1 [==============================] - 0s 27ms/step\n",
            "1/1 [==============================] - 0s 22ms/step\n",
            "1/1 [==============================] - 0s 25ms/step\n",
            "1/1 [==============================] - 0s 23ms/step\n",
            "1/1 [==============================] - 0s 27ms/step\n",
            "1/1 [==============================] - 0s 22ms/step\n",
            "1/1 [==============================] - 0s 23ms/step\n",
            "1/1 [==============================] - 0s 22ms/step\n",
            "1/1 [==============================] - 0s 20ms/step\n"
          ]
        }
      ]
    },
    {
      "cell_type": "markdown",
      "source": [
        "So, what is this doing? `predict()`  only expects images, not labels, but our current dataset yields batches that contain images and their labels. Moreover, the VGG16  model expects inputs that are pre-processed with the function `keras.applications.vgg16.preprocess_input`, which scales pixels to an appropriate range. Let’s see the shape of the extracted features:"
      ],
      "metadata": {
        "id": "FVFI6Ia3u31O"
      }
    },
    {
      "cell_type": "code",
      "source": [
        "train_features.shape"
      ],
      "metadata": {
        "colab": {
          "base_uri": "https://localhost:8080/"
        },
        "id": "8rAOztO3w4ky",
        "outputId": "be5c2382-1381-472f-8f82-67e11f0a51aa"
      },
      "execution_count": 9,
      "outputs": [
        {
          "output_type": "execute_result",
          "data": {
            "text/plain": [
              "(2000, 5, 5, 512)"
            ]
          },
          "metadata": {},
          "execution_count": 9
        }
      ]
    },
    {
      "cell_type": "code",
      "source": [
        "from keras import layers\n",
        "\n",
        "inputs = keras.Input(shape=(5, 5, 512))\n",
        "x = layers.Flatten()(inputs)\n",
        "x = layers.Dense(256)(x)\n",
        "x = layers.Dropout(0.5)(x)\n",
        "outputs = layers.Dense(1, activation=\"sigmoid\")(x)\n",
        "model = keras.Model(inputs, outputs)\n",
        "\n",
        "model.compile(loss=\"binary_crossentropy\",\n",
        "                     optimizer=\"rmsprop\",\n",
        "                     metrics=[\"accuracy\"])\n",
        "callbacks = [\n",
        "    keras.callbacks.ModelCheckpoint(\n",
        "       filepath=\"feature_extraction.keras\",\n",
        "       save_best_only=True,\n",
        "       monitor=\"val_loss\")\n",
        "]\n",
        "history = model.fit(\n",
        "    train_features, train_labels,\n",
        "    epochs=20,\n",
        "    validation_data=(val_features, val_labels),\n",
        "    callbacks=callbacks)"
      ],
      "metadata": {
        "colab": {
          "base_uri": "https://localhost:8080/"
        },
        "id": "gWyhZJW9w0zd",
        "outputId": "adbb40b5-6aa0-4170-9280-58c39748fd86"
      },
      "execution_count": 10,
      "outputs": [
        {
          "output_type": "stream",
          "name": "stdout",
          "text": [
            "Epoch 1/20\n",
            "63/63 [==============================] - 3s 11ms/step - loss: 20.4243 - accuracy: 0.9200 - val_loss: 4.0353 - val_accuracy: 0.9730\n",
            "Epoch 2/20\n",
            "63/63 [==============================] - 0s 5ms/step - loss: 2.5230 - accuracy: 0.9765 - val_loss: 7.0702 - val_accuracy: 0.9670\n",
            "Epoch 3/20\n",
            "63/63 [==============================] - 0s 7ms/step - loss: 3.3024 - accuracy: 0.9790 - val_loss: 5.4378 - val_accuracy: 0.9720\n",
            "Epoch 4/20\n",
            "63/63 [==============================] - 0s 7ms/step - loss: 1.2208 - accuracy: 0.9905 - val_loss: 4.9984 - val_accuracy: 0.9660\n",
            "Epoch 5/20\n",
            "63/63 [==============================] - 0s 5ms/step - loss: 1.8929 - accuracy: 0.9905 - val_loss: 5.7974 - val_accuracy: 0.9760\n",
            "Epoch 6/20\n",
            "63/63 [==============================] - 0s 6ms/step - loss: 0.7321 - accuracy: 0.9950 - val_loss: 5.9639 - val_accuracy: 0.9730\n",
            "Epoch 7/20\n",
            "63/63 [==============================] - 0s 5ms/step - loss: 0.4129 - accuracy: 0.9950 - val_loss: 5.4763 - val_accuracy: 0.9740\n",
            "Epoch 8/20\n",
            "63/63 [==============================] - 0s 5ms/step - loss: 0.1408 - accuracy: 0.9990 - val_loss: 6.0955 - val_accuracy: 0.9700\n",
            "Epoch 9/20\n",
            "63/63 [==============================] - 0s 6ms/step - loss: 0.0380 - accuracy: 0.9990 - val_loss: 6.5890 - val_accuracy: 0.9690\n",
            "Epoch 10/20\n",
            "63/63 [==============================] - 0s 6ms/step - loss: 0.0944 - accuracy: 0.9980 - val_loss: 5.6181 - val_accuracy: 0.9750\n",
            "Epoch 11/20\n",
            "63/63 [==============================] - 0s 7ms/step - loss: 0.2288 - accuracy: 0.9980 - val_loss: 5.2317 - val_accuracy: 0.9760\n",
            "Epoch 12/20\n",
            "63/63 [==============================] - 0s 7ms/step - loss: 6.1461e-26 - accuracy: 1.0000 - val_loss: 5.2317 - val_accuracy: 0.9760\n",
            "Epoch 13/20\n",
            "63/63 [==============================] - 0s 7ms/step - loss: 0.1576 - accuracy: 0.9965 - val_loss: 5.1605 - val_accuracy: 0.9720\n",
            "Epoch 14/20\n",
            "63/63 [==============================] - 0s 7ms/step - loss: 0.2225 - accuracy: 0.9975 - val_loss: 6.2235 - val_accuracy: 0.9690\n",
            "Epoch 15/20\n",
            "63/63 [==============================] - 1s 8ms/step - loss: 0.1515 - accuracy: 0.9975 - val_loss: 5.1323 - val_accuracy: 0.9770\n",
            "Epoch 16/20\n",
            "63/63 [==============================] - 1s 8ms/step - loss: 0.0695 - accuracy: 0.9975 - val_loss: 5.2781 - val_accuracy: 0.9790\n",
            "Epoch 17/20\n",
            "63/63 [==============================] - 1s 9ms/step - loss: 0.0681 - accuracy: 0.9985 - val_loss: 4.7971 - val_accuracy: 0.9760\n",
            "Epoch 18/20\n",
            "63/63 [==============================] - 1s 9ms/step - loss: 0.1612 - accuracy: 0.9980 - val_loss: 5.2255 - val_accuracy: 0.9740\n",
            "Epoch 19/20\n",
            "63/63 [==============================] - 0s 8ms/step - loss: 0.0140 - accuracy: 0.9990 - val_loss: 6.1601 - val_accuracy: 0.9740\n",
            "Epoch 20/20\n",
            "63/63 [==============================] - 0s 8ms/step - loss: 0.2604 - accuracy: 0.9990 - val_loss: 5.8485 - val_accuracy: 0.9720\n"
          ]
        }
      ]
    },
    {
      "cell_type": "code",
      "source": [
        "import matplotlib.pyplot as plt\n",
        "\n",
        "acc = history.history[\"accuracy\"]\n",
        "val_acc = history.history[\"val_accuracy\"]\n",
        "loss = history.history[\"loss\"]\n",
        "val_loss = history.history[\"val_loss\"]\n",
        "epochs = range(1, len(acc) + 1)\n",
        "plt.plot(epochs, acc, \"bo\", label=\"Training accuracy\")\n",
        "plt.plot(epochs, val_acc, \"b\", label=\"Validation accuracy\")\n",
        "plt.title(\"Training and validation accuracy\")\n",
        "plt.legend()\n",
        "plt.figure()\n",
        "plt.plot(epochs, loss, \"bo\", label=\"Training loss\")\n",
        "plt.plot(epochs, val_loss, \"b\", label=\"Validation loss\")\n",
        "plt.title(\"Training and validation loss\")\n",
        "plt.legend()\n",
        "plt.show()"
      ],
      "metadata": {
        "colab": {
          "base_uri": "https://localhost:8080/",
          "height": 887
        },
        "id": "aKDHEEYQxmQX",
        "outputId": "300f28ab-7b86-4e3d-bda0-90eb76044698"
      },
      "execution_count": 11,
      "outputs": [
        {
          "output_type": "display_data",
          "data": {
            "text/plain": [
              "<Figure size 640x480 with 1 Axes>"
            ],
            "image/png": "[encoded data removed]"
          },
          "metadata": {}
        },
        {
          "output_type": "display_data",
          "data": {
            "text/plain": [
              "<Figure size 640x480 with 1 Axes>"
            ],
            "image/png": "[encoded data removed]"
          },
          "metadata": {}
        }
      ]
    },
    {
      "cell_type": "markdown",
      "source": [
        "We reach a validation accuracy of about 97%—much better than we achieved in the previous section with the small model trained from scratch. This is a bit of an unfair comparison, however, because ImageNet contains many dog and cat instances, which means that our pretrained model already has the exact knowledge required for the task at hand. This won’t always be the case when you use pretrained features."
      ],
      "metadata": {
        "id": "8KrLVuzExz-c"
      }
    },
    {
      "cell_type": "markdown",
      "source": [
        "Now, we look a the second method:"
      ],
      "metadata": {
        "id": "sMyxSvd4A8ri"
      }
    },
    {
      "cell_type": "code",
      "source": [
        "conv_base  = keras.applications.vgg16.VGG16(\n",
        "    weights=\"imagenet\",\n",
        "    include_top=False)\n",
        "conv_base.trainable = False"
      ],
      "metadata": {
        "id": "JtxOF0oIFvBQ"
      },
      "execution_count": 12,
      "outputs": []
    },
    {
      "cell_type": "code",
      "source": [
        "data_augmentation = keras.Sequential(\n",
        "    [\n",
        "        layers.RandomFlip(\"horizontal\"),\n",
        "        layers.RandomRotation(0.1),\n",
        "        layers.RandomZoom(0.2),\n",
        "] )\n",
        "inputs = keras.Input(shape=(180, 180, 3))\n",
        "x = data_augmentation(inputs)\n",
        "# x = keras.applications.vgg16.preprocess_input(x).  -> this is a bug, not working\n",
        "x = keras.layers.Lambda(\n",
        "    lambda x: keras.applications.vgg16.preprocess_input(x))(x)\n",
        "x = conv_base(x)\n",
        "x = layers.Flatten()(x)\n",
        "x = layers.Dense(256)(x)\n",
        "x = layers.Dropout(0.5)(x)\n",
        "outputs = layers.Dense(1, activation=\"sigmoid\")(x)\n",
        "model = keras.Model(inputs, outputs)\n",
        "model.compile(loss=\"binary_crossentropy\",\n",
        "              optimizer=\"rmsprop\",\n",
        "              metrics=[\"accuracy\"])"
      ],
      "metadata": {
        "id": "syK6_OuFxxnQ"
      },
      "execution_count": 13,
      "outputs": []
    },
    {
      "cell_type": "code",
      "source": [
        "callbacks = [\n",
        "    keras.callbacks.ModelCheckpoint(\n",
        "        filepath=\"feature_extraction_with_data_augmentation.keras\",\n",
        "        save_best_only=True,\n",
        "        monitor=\"val_loss\")\n",
        "]\n",
        "\n",
        "history = model.fit(\n",
        "    train_dataset,\n",
        "    epochs=50,\n",
        "    validation_data=validation_dataset,\n",
        "    callbacks=callbacks)"
      ],
      "metadata": {
        "colab": {
          "base_uri": "https://localhost:8080/"
        },
        "id": "yYXYjVLpEfw4",
        "outputId": "8650420d-44e5-4c51-c3a3-c1816122f74d"
      },
      "execution_count": 14,
      "outputs": [
        {
          "output_type": "stream",
          "name": "stdout",
          "text": [
            "Epoch 1/50\n",
            "63/63 [==============================] - 12s 150ms/step - loss: 17.2169 - accuracy: 0.9020 - val_loss: 3.6051 - val_accuracy: 0.9720\n",
            "Epoch 2/50\n",
            "63/63 [==============================] - 9s 137ms/step - loss: 6.1655 - accuracy: 0.9485 - val_loss: 9.5224 - val_accuracy: 0.9530\n",
            "Epoch 3/50\n",
            "63/63 [==============================] - 9s 146ms/step - loss: 6.6523 - accuracy: 0.9560 - val_loss: 4.3870 - val_accuracy: 0.9750\n",
            "Epoch 4/50\n",
            "63/63 [==============================] - 9s 139ms/step - loss: 4.1638 - accuracy: 0.9635 - val_loss: 4.8130 - val_accuracy: 0.9750\n",
            "Epoch 5/50\n",
            "63/63 [==============================] - 10s 149ms/step - loss: 3.2896 - accuracy: 0.9730 - val_loss: 7.5407 - val_accuracy: 0.9630\n",
            "Epoch 6/50\n",
            "63/63 [==============================] - 9s 142ms/step - loss: 4.2474 - accuracy: 0.9675 - val_loss: 4.9577 - val_accuracy: 0.9680\n",
            "Epoch 7/50\n",
            "63/63 [==============================] - 10s 146ms/step - loss: 3.8833 - accuracy: 0.9695 - val_loss: 7.4803 - val_accuracy: 0.9670\n",
            "Epoch 8/50\n",
            "63/63 [==============================] - 11s 179ms/step - loss: 2.9432 - accuracy: 0.9730 - val_loss: 4.0633 - val_accuracy: 0.9760\n",
            "Epoch 9/50\n",
            "63/63 [==============================] - 10s 149ms/step - loss: 3.4011 - accuracy: 0.9680 - val_loss: 7.1494 - val_accuracy: 0.9700\n",
            "Epoch 10/50\n",
            "63/63 [==============================] - 10s 156ms/step - loss: 3.2075 - accuracy: 0.9695 - val_loss: 7.8704 - val_accuracy: 0.9660\n",
            "Epoch 11/50\n",
            "63/63 [==============================] - 10s 155ms/step - loss: 2.6842 - accuracy: 0.9780 - val_loss: 3.1068 - val_accuracy: 0.9790\n",
            "Epoch 12/50\n",
            "63/63 [==============================] - 10s 148ms/step - loss: 2.0733 - accuracy: 0.9785 - val_loss: 3.6404 - val_accuracy: 0.9810\n",
            "Epoch 13/50\n",
            "63/63 [==============================] - 11s 180ms/step - loss: 2.5798 - accuracy: 0.9735 - val_loss: 2.6367 - val_accuracy: 0.9840\n",
            "Epoch 14/50\n",
            "63/63 [==============================] - 10s 152ms/step - loss: 2.3370 - accuracy: 0.9775 - val_loss: 4.3078 - val_accuracy: 0.9690\n",
            "Epoch 15/50\n",
            "63/63 [==============================] - 9s 145ms/step - loss: 1.9797 - accuracy: 0.9780 - val_loss: 2.7533 - val_accuracy: 0.9820\n",
            "Epoch 16/50\n",
            "63/63 [==============================] - 11s 162ms/step - loss: 1.2983 - accuracy: 0.9835 - val_loss: 2.5302 - val_accuracy: 0.9840\n",
            "Epoch 17/50\n",
            "63/63 [==============================] - 12s 181ms/step - loss: 0.9616 - accuracy: 0.9825 - val_loss: 3.8953 - val_accuracy: 0.9720\n",
            "Epoch 18/50\n",
            "63/63 [==============================] - 10s 149ms/step - loss: 1.6174 - accuracy: 0.9790 - val_loss: 4.0128 - val_accuracy: 0.9760\n",
            "Epoch 19/50\n",
            "63/63 [==============================] - 10s 155ms/step - loss: 1.2344 - accuracy: 0.9835 - val_loss: 4.2438 - val_accuracy: 0.9730\n",
            "Epoch 20/50\n",
            "63/63 [==============================] - 11s 177ms/step - loss: 1.2853 - accuracy: 0.9835 - val_loss: 2.6660 - val_accuracy: 0.9800\n",
            "Epoch 21/50\n",
            "63/63 [==============================] - 10s 146ms/step - loss: 1.4671 - accuracy: 0.9845 - val_loss: 3.8807 - val_accuracy: 0.9680\n",
            "Epoch 22/50\n",
            "63/63 [==============================] - 10s 157ms/step - loss: 0.9152 - accuracy: 0.9840 - val_loss: 2.5168 - val_accuracy: 0.9800\n",
            "Epoch 23/50\n",
            "63/63 [==============================] - 9s 145ms/step - loss: 0.7482 - accuracy: 0.9840 - val_loss: 3.1991 - val_accuracy: 0.9800\n",
            "Epoch 24/50\n",
            "63/63 [==============================] - 10s 154ms/step - loss: 0.5631 - accuracy: 0.9865 - val_loss: 3.1799 - val_accuracy: 0.9770\n",
            "Epoch 25/50\n",
            "63/63 [==============================] - 12s 188ms/step - loss: 1.2790 - accuracy: 0.9855 - val_loss: 2.3651 - val_accuracy: 0.9820\n",
            "Epoch 26/50\n",
            "63/63 [==============================] - 10s 153ms/step - loss: 0.6386 - accuracy: 0.9895 - val_loss: 2.7471 - val_accuracy: 0.9750\n",
            "Epoch 27/50\n",
            "63/63 [==============================] - 9s 146ms/step - loss: 1.0483 - accuracy: 0.9830 - val_loss: 2.6728 - val_accuracy: 0.9760\n",
            "Epoch 28/50\n",
            "63/63 [==============================] - 10s 158ms/step - loss: 0.6373 - accuracy: 0.9860 - val_loss: 2.2606 - val_accuracy: 0.9770\n",
            "Epoch 29/50\n",
            "63/63 [==============================] - 10s 150ms/step - loss: 0.9708 - accuracy: 0.9805 - val_loss: 2.5774 - val_accuracy: 0.9800\n",
            "Epoch 30/50\n",
            "63/63 [==============================] - 10s 147ms/step - loss: 0.5912 - accuracy: 0.9885 - val_loss: 3.3025 - val_accuracy: 0.9750\n",
            "Epoch 31/50\n",
            "63/63 [==============================] - 10s 152ms/step - loss: 0.7516 - accuracy: 0.9870 - val_loss: 2.8661 - val_accuracy: 0.9780\n",
            "Epoch 32/50\n",
            "63/63 [==============================] - 9s 144ms/step - loss: 0.7911 - accuracy: 0.9885 - val_loss: 2.9535 - val_accuracy: 0.9750\n",
            "Epoch 33/50\n",
            "63/63 [==============================] - 10s 148ms/step - loss: 1.2662 - accuracy: 0.9860 - val_loss: 2.5392 - val_accuracy: 0.9760\n",
            "Epoch 34/50\n",
            "63/63 [==============================] - 11s 177ms/step - loss: 0.5126 - accuracy: 0.9925 - val_loss: 2.7259 - val_accuracy: 0.9750\n",
            "Epoch 35/50\n",
            "63/63 [==============================] - 10s 152ms/step - loss: 0.9374 - accuracy: 0.9850 - val_loss: 2.5471 - val_accuracy: 0.9780\n",
            "Epoch 36/50\n",
            "63/63 [==============================] - 12s 185ms/step - loss: 0.8578 - accuracy: 0.9855 - val_loss: 1.9640 - val_accuracy: 0.9780\n",
            "Epoch 37/50\n",
            "63/63 [==============================] - 10s 154ms/step - loss: 0.6240 - accuracy: 0.9890 - val_loss: 2.2899 - val_accuracy: 0.9770\n",
            "Epoch 38/50\n",
            "63/63 [==============================] - 10s 157ms/step - loss: 0.5160 - accuracy: 0.9900 - val_loss: 1.9540 - val_accuracy: 0.9800\n",
            "Epoch 39/50\n",
            "63/63 [==============================] - 10s 154ms/step - loss: 0.7095 - accuracy: 0.9830 - val_loss: 1.9859 - val_accuracy: 0.9770\n",
            "Epoch 40/50\n",
            "63/63 [==============================] - 9s 146ms/step - loss: 0.7230 - accuracy: 0.9865 - val_loss: 2.5037 - val_accuracy: 0.9780\n",
            "Epoch 41/50\n",
            "63/63 [==============================] - 10s 153ms/step - loss: 0.7835 - accuracy: 0.9885 - val_loss: 1.4900 - val_accuracy: 0.9810\n",
            "Epoch 42/50\n",
            "63/63 [==============================] - 12s 185ms/step - loss: 0.5171 - accuracy: 0.9930 - val_loss: 1.3975 - val_accuracy: 0.9820\n",
            "Epoch 43/50\n",
            "63/63 [==============================] - 10s 148ms/step - loss: 0.5173 - accuracy: 0.9860 - val_loss: 1.4969 - val_accuracy: 0.9800\n",
            "Epoch 44/50\n",
            "63/63 [==============================] - 9s 145ms/step - loss: 1.0647 - accuracy: 0.9815 - val_loss: 2.4626 - val_accuracy: 0.9750\n",
            "Epoch 45/50\n",
            "63/63 [==============================] - 10s 149ms/step - loss: 0.5462 - accuracy: 0.9890 - val_loss: 1.8559 - val_accuracy: 0.9810\n",
            "Epoch 46/50\n",
            "63/63 [==============================] - 11s 164ms/step - loss: 0.5802 - accuracy: 0.9875 - val_loss: 1.3113 - val_accuracy: 0.9850\n",
            "Epoch 47/50\n",
            "63/63 [==============================] - 12s 180ms/step - loss: 0.3109 - accuracy: 0.9905 - val_loss: 1.6660 - val_accuracy: 0.9800\n",
            "Epoch 48/50\n",
            "63/63 [==============================] - 11s 178ms/step - loss: 0.6053 - accuracy: 0.9840 - val_loss: 1.5434 - val_accuracy: 0.9800\n",
            "Epoch 49/50\n",
            "63/63 [==============================] - 9s 144ms/step - loss: 0.3476 - accuracy: 0.9925 - val_loss: 2.0849 - val_accuracy: 0.9810\n",
            "Epoch 50/50\n",
            "63/63 [==============================] - 10s 149ms/step - loss: 0.4227 - accuracy: 0.9895 - val_loss: 1.4726 - val_accuracy: 0.9820\n"
          ]
        }
      ]
    },
    {
      "cell_type": "markdown",
      "source": [
        "Let's test the accuracy:"
      ],
      "metadata": {
        "id": "jctREIQX4fpL"
      }
    },
    {
      "cell_type": "code",
      "source": [
        "test_model = keras.models.load_model(\n",
        "            \"feature_extraction_with_data_augmentation.keras\",\n",
        "            safe_mode=False)\n",
        "test_loss, test_acc = test_model.evaluate(test_dataset)\n",
        "print(f\"Test accuracy: {test_acc:.3f}\")\n"
      ],
      "metadata": {
        "colab": {
          "base_uri": "https://localhost:8080/"
        },
        "id": "QAHxhXJC4iaw",
        "outputId": "bf4cbbb3-e42e-44f8-b421-80a0fcee5b73"
      },
      "execution_count": 15,
      "outputs": [
        {
          "output_type": "stream",
          "name": "stdout",
          "text": [
            "63/63 [==============================] - 6s 94ms/step - loss: 1.6271 - accuracy: 0.9785\n",
            "Test accuracy: 0.979\n"
          ]
        }
      ]
    },
    {
      "cell_type": "markdown",
      "source": [
        "So, we arrive at a test accruacy of 97.3%. This is only a modest improvement compared to the previous test accuracy, which is a bit disappointing given the strong results on the validation data."
      ],
      "metadata": {
        "id": "WFLcCcsh4znc"
      }
    },
    {
      "cell_type": "markdown",
      "source": [
        "Another commonly used technique for using pre-trained models, complementary to feature extraction, is fine-tuning. Let's see this below (notes for details on ths in my Notion)"
      ],
      "metadata": {
        "id": "w5boRQLL5EAc"
      }
    },
    {
      "cell_type": "code",
      "source": [
        "conv_base.trainable = True\n",
        "for layer in conv_base.layers[:-4]:\n",
        "    layer.trainable = False"
      ],
      "metadata": {
        "id": "PKipL6wgYOMy"
      },
      "execution_count": 16,
      "outputs": []
    },
    {
      "cell_type": "code",
      "source": [
        "model.compile(loss=\"binary_crossentropy\",\n",
        "              optimizer=keras.optimizers.RMSprop(learning_rate=1e-5),\n",
        "              metrics=[\"accuracy\"])\n",
        "callbacks = [\n",
        "    keras.callbacks.ModelCheckpoint(\n",
        "        filepath=\"fine_tuning.keras\",\n",
        "        save_best_only=True,\n",
        "        monitor=\"val_loss\")\n",
        "]\n",
        "history = model.fit(\n",
        "    train_dataset,\n",
        "    epochs=30,\n",
        "    validation_data=validation_dataset,\n",
        "    callbacks=callbacks)"
      ],
      "metadata": {
        "id": "oiQbhcqR6vvl",
        "colab": {
          "base_uri": "https://localhost:8080/"
        },
        "outputId": "eb51c815-c574-439c-bf01-f47cb4ce2354"
      },
      "execution_count": 17,
      "outputs": [
        {
          "output_type": "stream",
          "name": "stdout",
          "text": [
            "Epoch 1/30\n",
            "63/63 [==============================] - 17s 212ms/step - loss: 0.5290 - accuracy: 0.9870 - val_loss: 1.5805 - val_accuracy: 0.9820\n",
            "Epoch 2/30\n",
            "63/63 [==============================] - 11s 176ms/step - loss: 0.3059 - accuracy: 0.9910 - val_loss: 1.5342 - val_accuracy: 0.9810\n",
            "Epoch 3/30\n",
            "63/63 [==============================] - 11s 170ms/step - loss: 0.5235 - accuracy: 0.9890 - val_loss: 1.6658 - val_accuracy: 0.9820\n",
            "Epoch 4/30\n",
            "63/63 [==============================] - 12s 193ms/step - loss: 0.1726 - accuracy: 0.9935 - val_loss: 1.7051 - val_accuracy: 0.9800\n",
            "Epoch 5/30\n",
            "63/63 [==============================] - 11s 178ms/step - loss: 0.3106 - accuracy: 0.9915 - val_loss: 1.3385 - val_accuracy: 0.9810\n",
            "Epoch 6/30\n",
            "63/63 [==============================] - 11s 166ms/step - loss: 0.1522 - accuracy: 0.9935 - val_loss: 1.6253 - val_accuracy: 0.9790\n",
            "Epoch 7/30\n",
            "63/63 [==============================] - 10s 161ms/step - loss: 0.2119 - accuracy: 0.9920 - val_loss: 1.7577 - val_accuracy: 0.9830\n",
            "Epoch 8/30\n",
            "63/63 [==============================] - 11s 168ms/step - loss: 0.3325 - accuracy: 0.9925 - val_loss: 1.6670 - val_accuracy: 0.9790\n",
            "Epoch 9/30\n",
            "63/63 [==============================] - 13s 197ms/step - loss: 0.1243 - accuracy: 0.9965 - val_loss: 1.8228 - val_accuracy: 0.9790\n",
            "Epoch 10/30\n",
            "63/63 [==============================] - 12s 192ms/step - loss: 0.1997 - accuracy: 0.9925 - val_loss: 1.6283 - val_accuracy: 0.9810\n",
            "Epoch 11/30\n",
            "63/63 [==============================] - 11s 169ms/step - loss: 0.2184 - accuracy: 0.9935 - val_loss: 1.2954 - val_accuracy: 0.9850\n",
            "Epoch 12/30\n",
            "63/63 [==============================] - 11s 176ms/step - loss: 0.1287 - accuracy: 0.9965 - val_loss: 1.1724 - val_accuracy: 0.9860\n",
            "Epoch 13/30\n",
            "63/63 [==============================] - 11s 164ms/step - loss: 0.2361 - accuracy: 0.9940 - val_loss: 1.3653 - val_accuracy: 0.9850\n",
            "Epoch 14/30\n",
            "63/63 [==============================] - 11s 177ms/step - loss: 0.3348 - accuracy: 0.9900 - val_loss: 1.1229 - val_accuracy: 0.9870\n",
            "Epoch 15/30\n",
            "63/63 [==============================] - 12s 192ms/step - loss: 0.1921 - accuracy: 0.9930 - val_loss: 1.6381 - val_accuracy: 0.9810\n",
            "Epoch 16/30\n",
            "63/63 [==============================] - 11s 165ms/step - loss: 0.2065 - accuracy: 0.9945 - val_loss: 1.3611 - val_accuracy: 0.9840\n",
            "Epoch 17/30\n",
            "63/63 [==============================] - 12s 194ms/step - loss: 0.2170 - accuracy: 0.9935 - val_loss: 1.6139 - val_accuracy: 0.9760\n",
            "Epoch 18/30\n",
            "63/63 [==============================] - 12s 192ms/step - loss: 0.0931 - accuracy: 0.9985 - val_loss: 1.4933 - val_accuracy: 0.9780\n",
            "Epoch 19/30\n",
            "63/63 [==============================] - 11s 169ms/step - loss: 0.2095 - accuracy: 0.9945 - val_loss: 1.1344 - val_accuracy: 0.9850\n",
            "Epoch 20/30\n",
            "63/63 [==============================] - 10s 162ms/step - loss: 0.0933 - accuracy: 0.9960 - val_loss: 1.6380 - val_accuracy: 0.9800\n",
            "Epoch 21/30\n",
            "63/63 [==============================] - 11s 168ms/step - loss: 0.0970 - accuracy: 0.9955 - val_loss: 1.1704 - val_accuracy: 0.9820\n",
            "Epoch 22/30\n",
            "63/63 [==============================] - 13s 196ms/step - loss: 0.1884 - accuracy: 0.9950 - val_loss: 1.2398 - val_accuracy: 0.9850\n",
            "Epoch 23/30\n",
            "63/63 [==============================] - 11s 166ms/step - loss: 0.1806 - accuracy: 0.9940 - val_loss: 1.5302 - val_accuracy: 0.9830\n",
            "Epoch 24/30\n",
            "63/63 [==============================] - 11s 162ms/step - loss: 0.0990 - accuracy: 0.9955 - val_loss: 1.4027 - val_accuracy: 0.9810\n",
            "Epoch 25/30\n",
            "63/63 [==============================] - 12s 194ms/step - loss: 0.1233 - accuracy: 0.9945 - val_loss: 1.5916 - val_accuracy: 0.9790\n",
            "Epoch 26/30\n",
            "63/63 [==============================] - 11s 173ms/step - loss: 0.0554 - accuracy: 0.9980 - val_loss: 1.7983 - val_accuracy: 0.9760\n",
            "Epoch 27/30\n",
            "63/63 [==============================] - 12s 194ms/step - loss: 0.0083 - accuracy: 0.9990 - val_loss: 1.6353 - val_accuracy: 0.9800\n",
            "Epoch 28/30\n",
            "63/63 [==============================] - 10s 160ms/step - loss: 0.1163 - accuracy: 0.9970 - val_loss: 1.7053 - val_accuracy: 0.9800\n",
            "Epoch 29/30\n",
            "63/63 [==============================] - 11s 167ms/step - loss: 0.1223 - accuracy: 0.9960 - val_loss: 1.6773 - val_accuracy: 0.9730\n",
            "Epoch 30/30\n",
            "63/63 [==============================] - 12s 191ms/step - loss: 0.0380 - accuracy: 0.9975 - val_loss: 1.4669 - val_accuracy: 0.9820\n"
          ]
        }
      ]
    },
    {
      "cell_type": "code",
      "source": [
        "model = keras.models.load_model(\"fine_tuning.keras\", safe_mode=False)\n",
        "test_loss, test_accuracy = model.evaluate(test_dataset)\n",
        "print(f\"Test accuracy: {test_acc:.3f}\")"
      ],
      "metadata": {
        "id": "-RNMYPwpYYkg",
        "colab": {
          "base_uri": "https://localhost:8080/"
        },
        "outputId": "0e4f8419-f29d-4262-e05f-d6ac8012b6d2"
      },
      "execution_count": 19,
      "outputs": [
        {
          "output_type": "stream",
          "name": "stdout",
          "text": [
            "63/63 [==============================] - 7s 91ms/step - loss: 1.4733 - accuracy: 0.9795\n",
            "Test accuracy: 0.979\n"
          ]
        }
      ]
    }
  ]
}