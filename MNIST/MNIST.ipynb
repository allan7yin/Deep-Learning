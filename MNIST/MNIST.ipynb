{
 "cells": [
  {
   "cell_type": "code",
   "execution_count": 1,
   "metadata": {},
   "outputs": [
    {
     "name": "stdout",
     "output_type": "stream",
     "text": [
      "Epoch 1/5\n",
      "422/422 [==============================] - 2s 4ms/step - loss: 0.2639 - accuracy: 0.9236 - val_loss: 0.1425 - val_accuracy: 0.9585\n",
      "Epoch 2/5\n",
      "422/422 [==============================] - 2s 4ms/step - loss: 0.1083 - accuracy: 0.9678 - val_loss: 0.1114 - val_accuracy: 0.9653\n",
      "Epoch 3/5\n",
      "422/422 [==============================] - 2s 4ms/step - loss: 0.0716 - accuracy: 0.9789 - val_loss: 0.0803 - val_accuracy: 0.9747\n",
      "Epoch 4/5\n",
      "422/422 [==============================] - 2s 4ms/step - loss: 0.0513 - accuracy: 0.9846 - val_loss: 0.0769 - val_accuracy: 0.9780\n",
      "Epoch 5/5\n",
      "422/422 [==============================] - 2s 4ms/step - loss: 0.0383 - accuracy: 0.9887 - val_loss: 0.0734 - val_accuracy: 0.9772\n",
      "313/313 [==============================] - 0s 1ms/step - loss: 0.0711 - accuracy: 0.9791\n",
      "accuracy_of_model: 0.9790999889373779\n",
      "1/1 [==============================] - 0s 35ms/step\n"
     ]
    },
    {
     "data": {
      "text/plain": [
       "array([9.1130964e-10, 1.6728835e-10, 2.1876302e-07, 6.3326333e-06,\n",
       "       2.6465668e-12, 9.9856354e-09, 7.5618934e-15, 9.9999321e-01,\n",
       "       1.0974314e-08, 2.0927955e-07], dtype=float32)"
      ]
     },
     "execution_count": 1,
     "metadata": {},
     "output_type": "execute_result"
    }
   ],
   "source": [
    "from tensorflow import keras\n",
    "from tensorflow.keras import layers \n",
    "from tensorflow.keras.datasets import mnist\n",
    "\n",
    "import numpy as np\n",
    "import matplotlib.pyplot as plt\n",
    "\n",
    "(train_images, train_labels), (test_images, test_labels) = mnist.load_data()\n",
    "# 60,000 samples, each a 28x28 matrix. Each one correponds to a label 0-9\n",
    "\n",
    "# randomize order of data, to obtain better distribution \n",
    "random_indices = np.random.permutation(len(train_images))\n",
    "train_images = train_images[random_indices]\n",
    "train_labels = train_labels[random_indices]\n",
    "\n",
    "# pre-process data into 2D arrays, each value is from 0-1 instead of 0-255. \n",
    "train_images = train_images.reshape((60000, 28 * 28))\n",
    "train_images = train_images.astype(\"float32\") / 255\n",
    "test_images = test_images.reshape((10000, 28 * 28))\n",
    "test_images = test_images.astype(\"float32\") / 255\n",
    "\n",
    "# Allocate 6,000 samples for validation\n",
    "val_images = train_images[:6000]\n",
    "val_labels = train_labels[:6000]\n",
    "\n",
    "# Resize the training set\n",
    "train_images = train_images[6000:]\n",
    "train_labels = train_labels[6000:]\n",
    "\n",
    "# model\n",
    "def build_model():\n",
    "  model = keras.Sequential([\n",
    "      layers.Dense(512, activation=\"relu\"),\n",
    "      layers.Dense(10, activation=\"softmax\")\n",
    "  ])\n",
    "\n",
    "  model.compile(optimizer=\"rmsprop\",\n",
    "                loss=\"sparse_categorical_crossentropy\",\n",
    "                metrics=[\"accuracy\"])\n",
    "  return model\n",
    "\n",
    "model = build_model()\n",
    " \n",
    "history = model.fit(train_images,\n",
    "                      train_labels,\n",
    "                      epochs=5,\n",
    "                      batch_size = 128,\n",
    "                      validation_data=(val_images, val_labels))\n",
    "  \n",
    "    \n",
    "accuracy_history = history.history[\"val_accuracy\"]\n",
    "loss_of_model, accuracy_of_model = model.evaluate(test_images, test_labels)\n",
    "print(f\"accuracy_of_model: {accuracy_of_model}\")\n",
    "\n",
    "test_digits = test_images[0:10]\n",
    "predictions = model.predict(test_digits)\n",
    "predictions[0]"
   ]
  }
 ],
 "metadata": {
  "kernelspec": {
   "display_name": "Python 3",
   "language": "python",
   "name": "python3"
  },
  "language_info": {
   "codemirror_mode": {
    "name": "ipython",
    "version": 3
   },
   "file_extension": ".py",
   "mimetype": "text/x-python",
   "name": "python",
   "nbconvert_exporter": "python",
   "pygments_lexer": "ipython3",
   "version": "3.11.3"
  },
  "orig_nbformat": 4
 },
 "nbformat": 4,
 "nbformat_minor": 2
}
