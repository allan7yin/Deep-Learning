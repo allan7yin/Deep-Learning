{
 "cells": [
  {
   "cell_type": "code",
   "execution_count": 1,
   "metadata": {},
   "outputs": [
    {
     "ename": "ModuleNotFoundError",
     "evalue": "No module named 'matplotlib'",
     "output_type": "error",
     "traceback": [
      "\u001b[0;31m---------------------------------------------------------------------------\u001b[0m",
      "\u001b[0;31mModuleNotFoundError\u001b[0m                       Traceback (most recent call last)",
      "Cell \u001b[0;32mIn[1], line 6\u001b[0m\n\u001b[1;32m      3\u001b[0m \u001b[38;5;28;01mfrom\u001b[39;00m \u001b[38;5;21;01mtensorflow\u001b[39;00m\u001b[38;5;21;01m.\u001b[39;00m\u001b[38;5;21;01mkeras\u001b[39;00m\u001b[38;5;21;01m.\u001b[39;00m\u001b[38;5;21;01mdatasets\u001b[39;00m \u001b[38;5;28;01mimport\u001b[39;00m mnist\n\u001b[1;32m      5\u001b[0m \u001b[38;5;28;01mimport\u001b[39;00m \u001b[38;5;21;01mnumpy\u001b[39;00m \u001b[38;5;28;01mas\u001b[39;00m \u001b[38;5;21;01mnp\u001b[39;00m\n\u001b[0;32m----> 6\u001b[0m \u001b[38;5;28;01mimport\u001b[39;00m \u001b[38;5;21;01mmatplotlib\u001b[39;00m\u001b[38;5;21;01m.\u001b[39;00m\u001b[38;5;21;01mpyplot\u001b[39;00m \u001b[38;5;28;01mas\u001b[39;00m \u001b[38;5;21;01mplt\u001b[39;00m\n\u001b[1;32m      8\u001b[0m (train_images, train_labels), (test_images, test_labels) \u001b[38;5;241m=\u001b[39m mnist\u001b[38;5;241m.\u001b[39mload_data()\n\u001b[1;32m      9\u001b[0m \u001b[38;5;66;03m# 60,000 samples, each a 28x28 matrix. Each one correponds to a label 0-9\u001b[39;00m\n\u001b[1;32m     10\u001b[0m \n\u001b[1;32m     11\u001b[0m \u001b[38;5;66;03m# randomize order of data, to obtain better distribution \u001b[39;00m\n",
      "\u001b[0;31mModuleNotFoundError\u001b[0m: No module named 'matplotlib'"
     ]
    }
   ],
   "source": [
    "from tensorflow import keras\n",
    "from tensorflow.keras import layers \n",
    "from tensorflow.keras.datasets import mnist\n",
    "\n",
    "import numpy as np\n",
    "import matplotlib.pyplot as plt\n",
    "\n",
    "(train_images, train_labels), (test_images, test_labels) = mnist.load_data()\n",
    "# 60,000 samples, each a 28x28 matrix. Each one correponds to a label 0-9\n",
    "\n",
    "# randomize order of data, to obtain better distribution \n",
    "random_indices = np.random.permutation(len(train_images))\n",
    "train_images = train_images[random_indices]\n",
    "train_labels = train_labels[random_indices]\n",
    "\n",
    "# pre-process data into 2D arrays, each value is from 0-1 instead of 0-255. \n",
    "train_images = train_images.reshape((60000, 28 * 28))\n",
    "train_images = train_images.astype(\"float32\") / 255\n",
    "test_images = test_images.reshape((10000, 28 * 28))\n",
    "test_images = test_images.astype(\"float32\") / 255\n",
    "\n",
    "# Allocate 6,000 samples for validation\n",
    "val_images = train_images[:6000]\n",
    "val_labels = train_labels[:6000]\n",
    "\n",
    "# Resize the training set\n",
    "train_images = train_images[6000:]\n",
    "train_labels = train_labels[6000:]\n",
    "\n",
    "# model\n",
    "def build_model():\n",
    "  model = keras.Sequential([\n",
    "      layers.Dense(512, activation=\"relu\"),\n",
    "      layers.Dense(10, activation=\"softmax\")\n",
    "  ])\n",
    "\n",
    "  model.compile(optimizer=\"rmsprop\",\n",
    "                loss=\"sparse_categorical_crossentropy\",\n",
    "                metrics=[\"accuracy\"])\n",
    "  return model\n",
    "\n",
    "model = build_model()\n",
    " \n",
    "history = model.fit(train_images,\n",
    "                      train_labels,\n",
    "                      epochs=5,\n",
    "                      batch_size = 128,\n",
    "                      validation_data=(val_images, val_labels))\n",
    "  \n",
    "    \n",
    "accuracy_history = history.history[\"val_accuracy\"]\n",
    "loss_of_model, accuracy_of_model = model.evaluate(test_images, test_labels)\n",
    "print(f\"accuracy_of_model: {accuracy_of_model}\")\n",
    "\n",
    "test_digits = test_images[0:10]\n",
    "predictions = model.predict(test_digits)\n",
    "predictions[0]"
   ]
  },
  {
   "cell_type": "code",
   "execution_count": null,
   "metadata": {},
   "outputs": [],
   "source": []
  }
 ],
 "metadata": {
  "kernelspec": {
   "display_name": "Python 3 (ipykernel)",
   "language": "python",
   "name": "python3"
  },
  "language_info": {
   "codemirror_mode": {
    "name": "ipython",
    "version": 3
   },
   "file_extension": ".py",
   "mimetype": "text/x-python",
   "name": "python",
   "nbconvert_exporter": "python",
   "pygments_lexer": "ipython3",
   "version": "3.8.18"
  }
 },
 "nbformat": 4,
 "nbformat_minor": 4
}
